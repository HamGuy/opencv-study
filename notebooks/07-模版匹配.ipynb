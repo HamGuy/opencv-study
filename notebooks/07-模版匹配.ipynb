{
 "cells": [
  {
   "cell_type": "code",
   "execution_count": null,
   "id": "6782de15-0732-4d46-a390-e09461d21e7f",
   "metadata": {},
   "outputs": [],
   "source": [
    "# notebook 里自动绘制图像\n",
    "%matplotlib inline \n",
    "\n",
    "import cv2\n",
    "import matplotlib\n",
    "import matplotlib.pyplot as plt\n",
    "\n",
    "# 读取图像\n",
    "img = cv2.imread('../imgs/09.png')\n",
    "# 绘制图像\n",
    "plt.imshow(img)"
   ]
  }
 ],
 "metadata": {
  "kernelspec": {
   "display_name": "Python 3 (ipykernel)",
   "language": "python",
   "name": "python3"
  },
  "language_info": {
   "codemirror_mode": {
    "name": "ipython",
    "version": 3
   },
   "file_extension": ".py",
   "mimetype": "text/x-python",
   "name": "python",
   "nbconvert_exporter": "python",
   "pygments_lexer": "ipython3",
   "version": "3.10.10"
  }
 },
 "nbformat": 4,
 "nbformat_minor": 5
}
