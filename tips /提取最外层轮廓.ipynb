{
 "cells": [
  {
   "cell_type": "code",
   "execution_count": null,
   "id": "b26afb3c-9f9d-4bcd-85cb-5bd1d57d54dd",
   "metadata": {},
   "outputs": [],
   "source": [
    "# notebook 里自动绘制图像\n",
    "%matplotlib inline \n",
    "\n",
    "import cv2\n",
    "import matplotlib\n",
    "import matplotlib.pyplot as plt\n",
    "import numpy as np"
   ]
  },
  {
   "cell_type": "code",
   "execution_count": null,
   "id": "4a595e50-2185-45b7-9cfe-4575f1731d38",
   "metadata": {},
   "outputs": [],
   "source": [
    "image_a = cv2.imread('output/20230712-175159/oginal29_child38.jpg')\n",
    "image_b = cv2.imread('output/20230712-175159/oginal30_child31.jpg')\n",
    "image_c = cv2.imread('output/20230712-175159/oginal35_child36.jpg')"
   ]
  },
  {
   "cell_type": "code",
   "execution_count": null,
   "id": "3be56544-e164-4272-a8fa-c81112fce55b",
   "metadata": {},
   "outputs": [],
   "source": [
    "plt.figure(figsize= (20,20))\n",
    "\n",
    "plt.subplot(3,3,1)\n",
    "plt.imshow(image_a)\n",
    "\n",
    "result = cv2.subtract(image_a, image_b) \n",
    "result = cv2.cvtColor(result, cv2.COLOR_BGR2RGB)\n",
    "plt.subplot(3,3,2)\n",
    "plt.imshow(result)\n",
    "\n",
    "\n",
    "result2 = cv2.absdiff(result, image_c) \n",
    "plt.subplot(3,3,3)\n",
    "plt.imshow(result2)"
   ]
  },
  {
   "cell_type": "code",
   "execution_count": null,
   "id": "3057a119-da8b-4612-88e5-32d33ebc74d9",
   "metadata": {},
   "outputs": [],
   "source": [
    "# 将图像A和B转换为灰度图像\n",
    "gray_a = cv2.cvtColor(image_a, cv2.COLOR_BGR2GRAY)\n",
    "gray_b = cv2.cvtColor(image_b, cv2.COLOR_BGR2GRAY)\n",
    "\n",
    "# 对图像B进行阈值处理，生成掩膜\n",
    "_, thresh_a = cv2.threshold(gray_a, 1, 255, cv2.THRESH_BINARY)\n",
    "# 执行轮廓检测\n",
    "contours_a, _ = cv2.findContours(thresh_a, cv2.RETR_EXTERNAL, cv2.CHAIN_APPROX_SIMPLE)\n",
    "\n",
    "areas = [cv2.contourArea(c) for c in contours_a]\n",
    "max_idx = np.argmax(areas)\n",
    "max_area_cnt = contours_a[max_idx]\n",
    "\n",
    "# 获取轮廓的边界框\n",
    "x, y, w, h = cv2.boundingRect(max_area_cnt)\n",
    "\n",
    "print(x,y,h,w)\n",
    "\n",
    "if w > 0 and h > 0:\n",
    "    # 创建对应尺寸的空白图像\n",
    "    result = np.zeros_like(image_a)\n",
    "    # result[:, :, 3] = 0\n",
    "\n",
    "    # 将轮廓绘制在空白图像上\n",
    "    cv2.drawContours(result, [max_area_cnt], -1, (255, 255, 255), thickness=cv2.FILLED)\n",
    "    extracted_part = cv2.bitwise_and(image_a, result)\n",
    "\n",
    "    # 裁剪空白图像，仅保留轮廓区域\n",
    "    extracted_part = extracted_part[y:y+h, x:x+w]\n",
    "    showRes = cv2.cvtColor(extracted_part,cv2.COLOR_BGR2RGB)\n",
    "    plt.imshow(showRes)\n",
    "\n",
    "    # cv2.imwrite('./test001.png',showRes)\n",
    "    \n",
    "else:\n",
    "    print(\"error\")\n"
   ]
  },
  {
   "cell_type": "code",
   "execution_count": null,
   "id": "eb9fd93d-a664-4f27-a7c0-805a2252aa98",
   "metadata": {},
   "outputs": [],
   "source": [
    "# 转换图像为RGB颜色空间\n",
    "image_rgb = cv2.cvtColor(extracted_part, cv2.COLOR_BGR2RGB)\n",
    "\n",
    "# 将黑色像素排除在直方图统计之外\n",
    "mask = cv2.cvtColor(extracted_part, cv2.COLOR_BGR2GRAY)\n",
    "mask = cv2.threshold(mask, 1, 255, cv2.THRESH_BINARY)[1]\n",
    "image_rgb[mask == 0] = (0, 0, 0)\n",
    "\n",
    "# 计算非黑色像素的直方图\n",
    "histogram = cv2.calcHist([image_rgb], [0, 1, 2], mask, [256, 256, 256], [0, 256, 0, 256, 0, 256])\n",
    "\n",
    "# 找到像素数量最多的非黑色颜色索引\n",
    "indices = np.unravel_index(np.argmax(histogram), histogram.shape)\n",
    "\n",
    "# 获取像素数量最多的非黑色颜色\n",
    "most_common_color = (indices[2], indices[1], indices[0])\n",
    "\n",
    "# 显示结果\n",
    "print(\"Most common non-black color:\", most_common_color)\n",
    "\n",
    "result = np.zeros((100, 100, 3), dtype=np.uint8)\n",
    "result[:, :] = most_common_color\n",
    "\n",
    "result = cv2.cvtColor(result,cv2.COLOR_BGR2RGB)\n",
    "\n",
    "plt.imshow(result)\n"
   ]
  },
  {
   "cell_type": "code",
   "execution_count": null,
   "id": "2d061370-40b3-4940-90be-cb02f47da253",
   "metadata": {},
   "outputs": [],
   "source": [
    "img_filled = np.zeros_like(image_a)\n",
    "\n",
    "cv2.drawContours(img_filled, [max_area_cnt], -1, (int(indices[2]), int(indices[1]), int(indices[0])),thickness=cv2.FILLED)\n",
    "img_filled = cv2.cvtColor(img_filled,cv2.COLOR_BGR2RGB)\n",
    "\n",
    "plt.figure(figsize= (10,10))\n",
    "plt.imshow(img_filled)\n"
   ]
  }
 ],
 "metadata": {
  "kernelspec": {
   "display_name": "Python 3 (ipykernel)",
   "language": "python",
   "name": "python3"
  },
  "language_info": {
   "codemirror_mode": {
    "name": "ipython",
    "version": 3
   },
   "file_extension": ".py",
   "mimetype": "text/x-python",
   "name": "python",
   "nbconvert_exporter": "python",
   "pygments_lexer": "ipython3",
   "version": "3.10.10"
  }
 },
 "nbformat": 4,
 "nbformat_minor": 5
}
